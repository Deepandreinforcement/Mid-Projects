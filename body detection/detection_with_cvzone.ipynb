{
 "cells": [
  {
   "cell_type": "markdown",
   "id": "8b9fa4f6",
   "metadata": {},
   "source": [
    "# Hand Detection"
   ]
  },
  {
   "cell_type": "code",
   "execution_count": null,
   "id": "f898bfed",
   "metadata": {},
   "outputs": [],
   "source": [
    "import cv2\n",
    "# Bu kütüphane yüksek ihtimalle kurulu değildir sizde.\n",
    "# Bu yüzden önce bunu(cvzone) kurmanız grekiyor\n",
    "from cvzone.HandTrackingModule import HandDetector\n",
    "#  Eli tespit etmek için bir detector oluşturduk\n",
    "detector=HandDetector()\n",
    "img=cv2.imread('i8.jpg')\n",
    "## Bu dedektöre resmi verip eli tespit ediyoruz\n",
    "hands,img=detector.findHands(img)\n",
    "cv2.imshow('Resim',img)\n",
    "cv2.imwrite('r4.jpg',img)\n",
    "cv2.waitKey(0)\n",
    "cv2.destroyAllWindows()\n"
   ]
  },
  {
   "cell_type": "code",
   "execution_count": null,
   "id": "0b44c0a2",
   "metadata": {},
   "outputs": [],
   "source": [
    "# Burada eldeki noktaları ayrı ayrı tespit edebiliriz.\n",
    "# Bu kodda işaret parmağının ucunu tespit ediyoruz\n",
    "import cv2\n",
    "from cvzone.HandTrackingModule import HandDetector\n",
    "# En fazla kaç el bulunacağını söylüyoruz.\n",
    "# default değer 2\n",
    "detector=HandDetector(maxHands=5)\n",
    "img=cv2.imread('i6.jpg')\n",
    "# resmi kopyaladık. Amaç ana resmi korumak\n",
    "copy=img.copy()\n",
    "hands,copy=detector.findHands(copy)\n",
    "# eğer resimde el varsa hands değeri True döner.\n",
    "if hands:\n",
    "    # ilk eli aldık\n",
    "    hand=hands[0]\n",
    "    # Burada işaret parmağının ucunun indisi 8\n",
    "    # Bu konum değerlerini lmList'ten alıyoruz.\n",
    "    x,y,z=hand['lmList'][8]\n",
    "    # Burada işaret parmağının ucuna yeşil bir daire çiziyoruz.\n",
    "    cv2.circle(img ,(x,y),10,(0,255,0),cv2.FILLED)\n",
    "cv2.imshow('Resim',img)\n",
    "\n",
    "cv2.imwrite('r2.jpg',img)\n",
    "cv2.waitKey(0)\n",
    "cv2.destroyAllWindows()\n"
   ]
  },
  {
   "cell_type": "code",
   "execution_count": null,
   "id": "c9190054",
   "metadata": {},
   "outputs": [],
   "source": [
    "# burada videoda tespit işlemi yapıyoruz.\n",
    "import cv2\n",
    "from cvzone.HandTrackingModule import HandDetector\n",
    "kamera= cv2.VideoCapture(0)\n",
    "detector=HandDetector()\n",
    "while True:\n",
    "       \n",
    "    ret,kare=kamera.read()\n",
    "    # görüntüyü yatayda çevirdik. Çünkü normalde ters\n",
    "    kare=cv2.flip(kare,1)\n",
    "    # görüntüyü çevirdiğimiz için flipType=False \n",
    "    hands,kare=detector.findHands(kare,flipType=False)\n",
    "    cv2.imshow(\"kamera\",kare)\n",
    "    if cv2.waitKey(1) & 0xFF == ord('q'):\n",
    "        break\n",
    "kamera.release()\n",
    "cv2.destroyAllWindows()\n"
   ]
  },
  {
   "cell_type": "code",
   "execution_count": null,
   "id": "6ec308ed",
   "metadata": {},
   "outputs": [],
   "source": [
    "import cv2\n",
    "from cvzone.HandTrackingModule import HandDetector\n",
    "kamera= cv2.VideoCapture(0)\n",
    "detector=HandDetector()\n",
    "while True:\n",
    "       \n",
    "    ret,kare=kamera.read()\n",
    "    kare=cv2.flip(kare,1)\n",
    "    hands,kare=detector.findHands(kare,flipType=False)\n",
    "    if hands:\n",
    "        hand=hands[0]\n",
    "        x,y,z=hand['lmList'][8]\n",
    "        cv2.circle(kare,(x,y),5,(255,255,0),cv2.FILLED)\n",
    "    cv2.imshow(\"kamera\",kare)\n",
    "    if cv2.waitKey(1) & 0xFF == ord('q'):\n",
    "        break\n",
    "kamera.release()\n",
    "cv2.destroyAllWindows()"
   ]
  },
  {
   "cell_type": "markdown",
   "id": "588c1ce0",
   "metadata": {},
   "source": [
    "# Hand Tracking"
   ]
  },
  {
   "cell_type": "code",
   "execution_count": null,
   "id": "ebb8fba5",
   "metadata": {},
   "outputs": [],
   "source": [
    "import cv2\n",
    "import numpy as np\n",
    "from cvzone.HandTrackingModule import HandDetector\n",
    "kamera= cv2.VideoCapture(0)\n",
    "detector=HandDetector(maxHands=1)\n",
    "x1=[]\n",
    "y1=[]\n",
    "a=0   \n",
    "\n",
    "while True:\n",
    "       \n",
    "    ret,kare=kamera.read()\n",
    "    kare=cv2.flip(kare,1)\n",
    "    img=np.copy(kare)\n",
    "    \n",
    "    hands,kare=detector.findHands(kare)\n",
    "    if hands:\n",
    "        hand=hands[0]\n",
    "        x,y,z=hand['lmList'][8] \n",
    "        x1.append(x)\n",
    "        y1.append(y)\n",
    "        if a==0:\n",
    "            \n",
    "            pass\n",
    "        else:\n",
    "\n",
    "        \n",
    "            for i in range(1,a+1):\n",
    "                \n",
    "                cv2.line(img,(x1[i-1],y1[i-1]),(x1[i],y1[i]),(0,0,255),5)\n",
    "        a=a+1\n",
    "        \n",
    "\n",
    "    cv2.imshow(\"kamera\",img)\n",
    "    if cv2.waitKey(1) & 0xFF == ord('q'):\n",
    "        break\n",
    "kamera.release()\n",
    "cv2.destroyAllWindows()"
   ]
  },
  {
   "cell_type": "markdown",
   "id": "88cf4d56",
   "metadata": {},
   "source": [
    "# Pose Estimation"
   ]
  },
  {
   "cell_type": "code",
   "execution_count": 1,
   "id": "149e59f3",
   "metadata": {},
   "outputs": [],
   "source": [
    "import cv2\n",
    "from cvzone.PoseModule import PoseDetector\n",
    "detector=PoseDetector()\n",
    "img=cv2.imread('messi1.jpg')\n",
    "\n",
    "img=detector.findPose(img,draw=True)\n",
    " \n",
    "lmlist,bbox=detector.findPosition(img,bboxWithHands=True,draw=False)\n",
    "cv2.imshow(\"kamera\",img)     \n",
    "cv2.waitKey(0)\n",
    "cv2.destroyAllWindows()\n"
   ]
  },
  {
   "cell_type": "code",
   "execution_count": 2,
   "id": "04e4f718",
   "metadata": {},
   "outputs": [],
   "source": [
    "import cv2\n",
    "from cvzone.PoseModule import PoseDetector\n",
    "kamera= cv2.VideoCapture(0)\n",
    "detector=PoseDetector()\n",
    "while True:\n",
    "       \n",
    "    ret,kare=kamera.read()\n",
    "    kare=detector.findPose(kare)\n",
    " \n",
    "    lmlist,bbox=detector.findPosition(kare,bboxWithHands=True,)\n",
    "\n",
    "    cv2.imshow(\"kamera\",kare)\n",
    "    if cv2.waitKey(1) & 0xFF == ord('q'):\n",
    "        break\n",
    "kamera.release()\n",
    "cv2.destroyAllWindows()"
   ]
  },
  {
   "cell_type": "code",
   "execution_count": 3,
   "id": "955ccf6b",
   "metadata": {},
   "outputs": [],
   "source": [
    "import cv2\n",
    "from cvzone.PoseModule import PoseDetector\n",
    "detector=PoseDetector()\n",
    "img=cv2.imread('haa1.jpg')\n",
    "\n",
    "img=detector.findPose(img,draw=False)\n",
    " \n",
    "lmlist,bbox=detector.findPosition(img,bboxWithHands=True,)\n",
    "\n",
    "cv2.imshow(\"kamera\",img)\n",
    "cv2.waitKey(0)\n",
    "\n",
    "cv2.destroyAllWindows()"
   ]
  },
  {
   "cell_type": "code",
   "execution_count": null,
   "id": "1c74129f",
   "metadata": {},
   "outputs": [],
   "source": []
  },
  {
   "cell_type": "code",
   "execution_count": null,
   "id": "6702fce7",
   "metadata": {},
   "outputs": [],
   "source": []
  },
  {
   "cell_type": "code",
   "execution_count": null,
   "id": "2ac0ab9b",
   "metadata": {},
   "outputs": [],
   "source": []
  },
  {
   "cell_type": "code",
   "execution_count": null,
   "id": "eb6f8da9",
   "metadata": {},
   "outputs": [],
   "source": []
  }
 ],
 "metadata": {
  "kernelspec": {
   "display_name": "Python 3",
   "language": "python",
   "name": "python3"
  },
  "language_info": {
   "codemirror_mode": {
    "name": "ipython",
    "version": 3
   },
   "file_extension": ".py",
   "mimetype": "text/x-python",
   "name": "python",
   "nbconvert_exporter": "python",
   "pygments_lexer": "ipython3",
   "version": "3.7.4"
  }
 },
 "nbformat": 4,
 "nbformat_minor": 5
}
