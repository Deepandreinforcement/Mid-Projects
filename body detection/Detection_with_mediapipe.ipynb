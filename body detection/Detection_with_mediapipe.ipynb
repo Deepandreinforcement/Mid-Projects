{
 "cells": [
  {
   "cell_type": "markdown",
   "id": "c0749db9",
   "metadata": {},
   "source": [
    "# Face Mesh"
   ]
  },
  {
   "cell_type": "code",
   "execution_count": 1,
   "id": "520f72e5",
   "metadata": {},
   "outputs": [],
   "source": [
    "import cv2\n",
    "import mediapipe as mp\n",
    "kamera= cv2.VideoCapture(0)\n",
    "mpDraw=mp.solutions.drawing_utils\n",
    "mpFaceMesh=mp.solutions.face_mesh\n",
    "FaceMesh=mpFaceMesh.FaceMesh()\n",
    "while True:\n",
    "       \n",
    "    ret,kare=kamera.read()\n",
    "    \n",
    "    imgRGB=cv2.cvtColor(kare,cv2.COLOR_BGR2RGB)\n",
    "    results=FaceMesh.process(imgRGB)\n",
    "    if results.multi_face_landmarks:\n",
    "        for faceLmc in results.multi_face_landmarks:\n",
    "            mpDraw.draw_landmarks(kare,faceLmc,mpFaceMesh.FACEMESH_CONTOURS)\n",
    "\n",
    "    cv2.imshow(\"kamera\",kare)\n",
    "    if cv2.waitKey(1) & 0xFF == ord('q'):\n",
    "        break\n",
    "kamera.release()\n",
    "cv2.destroyAllWindows()"
   ]
  },
  {
   "cell_type": "markdown",
   "id": "14e40186",
   "metadata": {},
   "source": [
    "# Pose Detection"
   ]
  },
  {
   "cell_type": "code",
   "execution_count": 2,
   "id": "05f42f19",
   "metadata": {},
   "outputs": [],
   "source": [
    "import cv2\n",
    "import mediapipe as mp\n",
    "mpPose=mp.solutions.pose\n",
    "pose=mpPose.Pose()  \n",
    "img=cv2.imread('deb2.jpg')\n",
    "imgRGB=cv2.cvtColor(img,cv2.COLOR_BGR2RGB)\n",
    "results=pose.process(imgRGB)\n",
    "#resmin boyutları\n",
    "h,w,c=imgRGB.shape\n",
    "# burada pozu direk çizdirmek yerine bazı önemli noktaları alacağız.\n",
    "# Burada yüzdeki noktaları göstermeyeceğiz. O yüzden i>10\n",
    "if results.pose_landmarks:\n",
    "    # burada her bir noktanın indisini ve konumunu alıyoruz.\n",
    "    for i, lm in enumerate(results.pose_landmarks.landmark):\n",
    "        # indisler 10 büyük olduğu zaman if'in içine girer\n",
    "        if i>10:\n",
    "            # konumlar 0 ile 1 arasında bunu resme uygun olacak boyuta \n",
    "            # getiriyoruz.\n",
    "            cx,cy=int(lm.x*w),int(lm.y*h)\n",
    "            # Turuncu renkte bir daire çiziyor bu noktalara\n",
    "            cv2.circle(img,(cx,cy),10,(0,150,255),cv2.FILLED)\n",
    "\n",
    "cv2.imshow(\"kamera\",img)\n",
    "cv2.waitKey(0)\n",
    "cv2.destroyAllWindows()"
   ]
  },
  {
   "cell_type": "code",
   "execution_count": 3,
   "id": "26e05295",
   "metadata": {},
   "outputs": [],
   "source": [
    "import cv2\n",
    "import mediapipe as mp\n",
    "mp_drawing_styles = mp.solutions.drawing_styles\n",
    "mpDraw=mp.solutions.drawing_utils\n",
    "mpPose=mp.solutions.pose\n",
    "# resimlerdeki pozu bulacak aracı tanımladık\n",
    "pose=mpPose.Pose()\n",
    "  \n",
    "img=cv2.imread('deb1.jpg')\n",
    "# Resmi RGB uzayına çevirdik\n",
    "imgRGB=cv2.cvtColor(img,cv2.COLOR_BGR2RGB)\n",
    "# resimdeki pozu tespit ediyoruz.\n",
    "results=pose.process(imgRGB)\n",
    "# eğer resimde poz tespit edilmişse if'in içine girer\n",
    "if results.pose_landmarks:\n",
    "    # resmimde bulunan pozu çizdiriyoruz.\n",
    "    mpDraw.draw_landmarks(img,results.pose_landmarks,mpPose.POSE_CONNECTIONS,\n",
    "    # burası pozdaki renkleri belirliyor. Bu opsiyonel\n",
    "    landmark_drawing_spec=mp_drawing_styles.get_default_pose_landmarks_style())\n",
    "cv2.imshow(\"kamera\",img)\n",
    "cv2.waitKey(0)\n",
    "cv2.destroyAllWindows()"
   ]
  },
  {
   "cell_type": "code",
   "execution_count": 4,
   "id": "7b754c71",
   "metadata": {},
   "outputs": [],
   "source": [
    "import cv2\n",
    "import mediapipe as mp\n",
    "kamera= cv2.VideoCapture(0)\n",
    "mpDraw=mp.solutions.drawing_utils\n",
    "mpPose=mp.solutions.pose\n",
    "pose=mpPose.Pose()\n",
    "while True:   \n",
    "    ret,kare=kamera.read()\n",
    "    imgRGB=cv2.cvtColor(kare,cv2.COLOR_BGR2RGB)\n",
    "    results=pose.process(imgRGB)\n",
    "    if results.pose_landmarks:\n",
    "        mpDraw.draw_landmarks(kare,results.pose_landmarks,mpPose.POSE_CONNECTIONS)\n",
    "\n",
    "    cv2.imshow(\"kamera\",kare)\n",
    "    if cv2.waitKey(1) & 0xFF == ord('q'):\n",
    "        break\n",
    "kamera.release()\n",
    "cv2.destroyAllWindows()\n"
   ]
  },
  {
   "cell_type": "code",
   "execution_count": null,
   "id": "0cc4adc1",
   "metadata": {},
   "outputs": [],
   "source": []
  },
  {
   "cell_type": "code",
   "execution_count": null,
   "id": "976f86fb",
   "metadata": {},
   "outputs": [],
   "source": []
  },
  {
   "cell_type": "code",
   "execution_count": null,
   "id": "d07aa5c1",
   "metadata": {},
   "outputs": [],
   "source": []
  },
  {
   "cell_type": "code",
   "execution_count": null,
   "id": "fa7248bf",
   "metadata": {},
   "outputs": [],
   "source": []
  },
  {
   "cell_type": "code",
   "execution_count": null,
   "id": "af6253fe",
   "metadata": {},
   "outputs": [],
   "source": []
  },
  {
   "cell_type": "code",
   "execution_count": null,
   "id": "e4685e36",
   "metadata": {},
   "outputs": [],
   "source": []
  },
  {
   "cell_type": "code",
   "execution_count": null,
   "id": "8413d05b",
   "metadata": {},
   "outputs": [],
   "source": []
  },
  {
   "cell_type": "code",
   "execution_count": null,
   "id": "671ff984",
   "metadata": {},
   "outputs": [],
   "source": []
  },
  {
   "cell_type": "code",
   "execution_count": null,
   "id": "5a79dbd7",
   "metadata": {},
   "outputs": [],
   "source": []
  },
  {
   "cell_type": "code",
   "execution_count": null,
   "id": "ad25ceaf",
   "metadata": {},
   "outputs": [],
   "source": []
  }
 ],
 "metadata": {
  "kernelspec": {
   "display_name": "Python 3",
   "language": "python",
   "name": "python3"
  },
  "language_info": {
   "codemirror_mode": {
    "name": "ipython",
    "version": 3
   },
   "file_extension": ".py",
   "mimetype": "text/x-python",
   "name": "python",
   "nbconvert_exporter": "python",
   "pygments_lexer": "ipython3",
   "version": "3.7.4"
  }
 },
 "nbformat": 4,
 "nbformat_minor": 5
}
