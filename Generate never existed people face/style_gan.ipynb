{
  "nbformat": 4,
  "nbformat_minor": 0,
  "metadata": {
    "colab": {
      "provenance": [],
      "authorship_tag": "ABX9TyP8BT6Um5axicmBJA9FCxWX",
      "include_colab_link": true
    },
    "kernelspec": {
      "name": "python3",
      "display_name": "Python 3"
    },
    "language_info": {
      "name": "python"
    },
    "accelerator": "GPU"
  },
  "cells": [
    {
      "cell_type": "markdown",
      "metadata": {
        "id": "view-in-github",
        "colab_type": "text"
      },
      "source": [
        "<a href=\"https://colab.research.google.com/github/Deepandreinforcement/Mid-Projects/blob/main/Generate%20never%20existed%20people%20face/style_gan.ipynb\" target=\"_parent\"><img src=\"https://colab.research.google.com/assets/colab-badge.svg\" alt=\"Open In Colab\"/></a>"
      ]
    },
    {
      "cell_type": "code",
      "source": [
        "!git clone https://github.com/NVlabs/stylegan3.git\n",
        "!pip install ninja"
      ],
      "metadata": {
        "colab": {
          "base_uri": "https://localhost:8080/"
        },
        "id": "QuGU1LyCkxnA",
        "outputId": "5c947901-a573-46a0-982d-a4ddc7e0a2e5"
      },
      "execution_count": null,
      "outputs": [
        {
          "output_type": "stream",
          "name": "stdout",
          "text": [
            "Cloning into 'stylegan3'...\n",
            "remote: Enumerating objects: 207, done.\u001b[K\n",
            "remote: Total 207 (delta 0), reused 0 (delta 0), pack-reused 207\u001b[K\n",
            "Receiving objects: 100% (207/207), 4.17 MiB | 18.17 MiB/s, done.\n",
            "Resolving deltas: 100% (99/99), done.\n",
            "Looking in indexes: https://pypi.org/simple, https://us-python.pkg.dev/colab-wheels/public/simple/\n",
            "Collecting ninja\n",
            "  Downloading ninja-1.11.1-py2.py3-none-manylinux_2_12_x86_64.manylinux2010_x86_64.whl (145 kB)\n",
            "\u001b[K     |████████████████████████████████| 145 kB 9.0 MB/s \n",
            "\u001b[?25hInstalling collected packages: ninja\n",
            "Successfully installed ninja-1.11.1\n"
          ]
        }
      ]
    },
    {
      "cell_type": "markdown",
      "source": [
        "Burada seeds kısmındaki değerleri değiştirerek yeni yüzler üretebilrsiniz. Her bir seed için bir farklı yüz oluşturuyor. \n",
        "Burada iki sayı aralığındaki her bir sayı için bir yüz oluşuyor"
      ],
      "metadata": {
        "id": "Yz6SKF141RiM"
      }
    },
    {
      "cell_type": "code",
      "source": [
        "!python /content/stylegan3/gen_images.py \\\n",
        "    --network=https://api.ngc.nvidia.com/v2/models/nvidia/research/stylegan3/versions/1/files/stylegan3-r-ffhq-1024x1024.pkl \\\n",
        "  --outdir=/content/results3 --seeds=16364-16404"
      ],
      "metadata": {
        "colab": {
          "base_uri": "https://localhost:8080/"
        },
        "id": "UB4fwYz7kxtZ",
        "outputId": "5ad6e69f-70f0-4f14-e8ec-2fb8b77f0d67"
      },
      "execution_count": null,
      "outputs": [
        {
          "output_type": "stream",
          "name": "stdout",
          "text": [
            "Loading networks from \"https://api.ngc.nvidia.com/v2/models/nvidia/research/stylegan3/versions/1/files/stylegan3-r-ffhq-1024x1024.pkl\"...\n",
            "Downloading https://api.ngc.nvidia.com/v2/models/nvidia/research/stylegan3/versions/1/files/stylegan3-r-ffhq-1024x1024.pkl ... done\n",
            "Generating image for seed 16364 (0/41) ...\n",
            "Setting up PyTorch plugin \"bias_act_plugin\"... Done.\n",
            "Setting up PyTorch plugin \"filtered_lrelu_plugin\"... Done.\n",
            "Generating image for seed 16365 (1/41) ...\n",
            "Generating image for seed 16366 (2/41) ...\n",
            "Generating image for seed 16367 (3/41) ...\n",
            "Generating image for seed 16368 (4/41) ...\n",
            "Generating image for seed 16369 (5/41) ...\n",
            "Generating image for seed 16370 (6/41) ...\n",
            "Generating image for seed 16371 (7/41) ...\n",
            "Generating image for seed 16372 (8/41) ...\n",
            "Generating image for seed 16373 (9/41) ...\n",
            "Generating image for seed 16374 (10/41) ...\n",
            "Generating image for seed 16375 (11/41) ...\n",
            "Generating image for seed 16376 (12/41) ...\n",
            "Generating image for seed 16377 (13/41) ...\n",
            "Generating image for seed 16378 (14/41) ...\n",
            "Generating image for seed 16379 (15/41) ...\n",
            "Generating image for seed 16380 (16/41) ...\n",
            "Generating image for seed 16381 (17/41) ...\n",
            "Generating image for seed 16382 (18/41) ...\n",
            "Generating image for seed 16383 (19/41) ...\n",
            "Generating image for seed 16384 (20/41) ...\n",
            "Generating image for seed 16385 (21/41) ...\n",
            "Generating image for seed 16386 (22/41) ...\n",
            "Generating image for seed 16387 (23/41) ...\n",
            "Generating image for seed 16388 (24/41) ...\n",
            "Generating image for seed 16389 (25/41) ...\n",
            "Generating image for seed 16390 (26/41) ...\n",
            "Generating image for seed 16391 (27/41) ...\n",
            "Generating image for seed 16392 (28/41) ...\n",
            "Generating image for seed 16393 (29/41) ...\n",
            "Generating image for seed 16394 (30/41) ...\n",
            "Generating image for seed 16395 (31/41) ...\n",
            "Generating image for seed 16396 (32/41) ...\n",
            "Generating image for seed 16397 (33/41) ...\n",
            "Generating image for seed 16398 (34/41) ...\n",
            "Generating image for seed 16399 (35/41) ...\n",
            "Generating image for seed 16400 (36/41) ...\n",
            "Generating image for seed 16401 (37/41) ...\n",
            "Generating image for seed 16402 (38/41) ...\n",
            "Generating image for seed 16403 (39/41) ...\n",
            "Generating image for seed 16404 (40/41) ...\n"
          ]
        }
      ]
    }
  ]
}