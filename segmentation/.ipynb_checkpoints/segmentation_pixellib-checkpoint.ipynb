{
 "cells": [
  {
   "cell_type": "code",
   "execution_count": 1,
   "id": "93cb49e1",
   "metadata": {},
   "outputs": [],
   "source": [
    "#pip install pixellib"
   ]
  },
  {
   "attachments": {},
   "cell_type": "markdown",
   "id": "a27b3692",
   "metadata": {},
   "source": [
    "Bu iki dosya intertten indirilmeli. Bu modülün sitesine giderseniz orada indirme linkleri mevcut. \n",
    "mask_rcnn_coco.h5, deeplabv3_xception65_ade20k.h5"
   ]
  },
  {
   "cell_type": "markdown",
   "id": "17b4b622",
   "metadata": {},
   "source": [
    "# Instance Segmentation For Image"
   ]
  },
  {
   "cell_type": "code",
   "execution_count": null,
   "id": "6b010ef0",
   "metadata": {},
   "outputs": [],
   "source": [
    "from pixellib.instance import instance_segmentation\n",
    "# kullanacağımız resim\n",
    "i=\"iii.jpg\"\n",
    "# yeni oluşacak resmin adı\n",
    "o=\"iii3.jpg\"\n",
    "segment_img = instance_segmentation()\n",
    "segment_img.load_model(\"mask_rcnn_coco.h5\")\n",
    "segment_img.segmentImage(i,output_image_name = o)"
   ]
  },
  {
   "cell_type": "markdown",
   "id": "44a6fa71",
   "metadata": {},
   "source": [
    "# Instance Segmentation For Video"
   ]
  },
  {
   "cell_type": "code",
   "execution_count": null,
   "id": "b92302fe",
   "metadata": {},
   "outputs": [],
   "source": [
    "from pixellib.instance import instance_segmentation\n",
    "i='video1.mp4'\n",
    "o='yeni1.mp4'\n",
    "segment_video = instance_segmentation()\n",
    "segment_video.load_model(\"mask_rcnn_coco.h5\")\n",
    "segment_video.process_video(\n",
    "     i, \n",
    "     show_bboxes=True, \n",
    "     extract_segmented_objects=True, \n",
    "     save_extracted_objects=False,\n",
    "     frames_per_second=30,\n",
    "     output_video_name=o,\n",
    " )\n"
   ]
  },
  {
   "cell_type": "markdown",
   "id": "394f4121",
   "metadata": {},
   "source": [
    "# Semantic Segmentation For Image"
   ]
  },
  {
   "cell_type": "code",
   "execution_count": null,
   "id": "ed148fcb",
   "metadata": {},
   "outputs": [],
   "source": [
    "from pixellib.semantic import semantic_segmentation\n",
    "i=\"iii.jpg\"\n",
    "o=\"iii2.jpg\"\n",
    "segment_img = semantic_segmentation()\n",
    "segment_img.load_ade20k_model('deeplabv3_xception65_ade20k.h5')\n",
    "segment_img.segmentAsAde20k(i,output_image_name=o)\n"
   ]
  },
  {
   "cell_type": "markdown",
   "id": "af067693",
   "metadata": {},
   "source": [
    "# Semantic Segmentation For Video"
   ]
  },
  {
   "cell_type": "code",
   "execution_count": null,
   "id": "42580471",
   "metadata": {},
   "outputs": [],
   "source": [
    "from pixellib.semantic import semantic_segmentation\n",
    "i='video1.mp4'\n",
    "o='yeni2.mp4'\n",
    "segment_video2 = semantic_segmentation()\n",
    "segment_video2.load_ade20k_model('deeplabv3_xception65_ade20k.h5')\n",
    "segment_video2.process_video_ade20k(\n",
    "    i, \n",
    "    frames_per_second=30,\n",
    "    output_video_name=o,\n",
    ")"
   ]
  }
 ],
 "metadata": {
  "kernelspec": {
   "display_name": "Python 3",
   "language": "python",
   "name": "python3"
  },
  "language_info": {
   "codemirror_mode": {
    "name": "ipython",
    "version": 3
   },
   "file_extension": ".py",
   "mimetype": "text/x-python",
   "name": "python",
   "nbconvert_exporter": "python",
   "pygments_lexer": "ipython3",
   "version": "3.7.4"
  }
 },
 "nbformat": 4,
 "nbformat_minor": 5
}
