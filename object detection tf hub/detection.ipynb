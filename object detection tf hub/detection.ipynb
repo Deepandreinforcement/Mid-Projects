{
 "cells": [
  {
   "cell_type": "code",
   "execution_count": 1,
   "id": "5d3b214c",
   "metadata": {},
   "outputs": [],
   "source": [
    "import tensorflow_hub as hub\n",
    "import cv2\n",
    "import pandas as pd\n",
    "import tensorflow as tf\n",
    "\n",
    "\n",
    "\n",
    "detector = hub.load('https://tfhub.dev/tensorflow/efficientdet/lite3x/detection/1')\n",
    "\n",
    "\n",
    "# bu dosya internetten indirilmeli. Site açıklamada yazıyor\n",
    "labels = pd.read_csv('labels.csv', sep=';', index_col='ID')\n",
    "labels = labels['OBJECT (2017 REL.)']\n",
    "\n"
   ]
  },
  {
   "cell_type": "code",
   "execution_count": 2,
   "id": "22d2d09b",
   "metadata": {},
   "outputs": [],
   "source": [
    "\n",
    "img = cv2.imread('d5.jpg')\n",
    "\n",
    "rgb = cv2.cvtColor(img, cv2.COLOR_BGR2RGB)\n",
    "\n",
    "rgb_tensor = tf.convert_to_tensor(rgb, dtype=tf.uint8)\n",
    "\n",
    "rgb_tensor = tf.expand_dims(rgb_tensor , 0)\n",
    "\n",
    "\n"
   ]
  },
  {
   "cell_type": "code",
   "execution_count": 3,
   "id": "28b1fdcd",
   "metadata": {},
   "outputs": [],
   "source": [
    "\n",
    "(boxes, scores, classes, num_detections) = detector(rgb_tensor)\n",
    "p_labels = classes.numpy().astype('int')[0] \n",
    "p_labels = [labels[i] for i in p_labels]\n",
    "p_boxes = boxes.numpy()[0].astype('int')\n",
    "p_scores = scores.numpy()[0]\n",
    "\n",
    "for score,(ymin,xmin,ymax,xmax),label in zip(p_scores, p_boxes, p_labels):\n",
    "    if score < 0.5:\n",
    "        continue\n",
    "\n",
    "    score_txt = f'%{100 * round(score)}'\n",
    "    img = cv2.rectangle(img,(xmin, ymax),(xmax, ymin),(0,255,0),2)      \n",
    "    font = cv2.FONT_HERSHEY_COMPLEX\n",
    "    cv2.putText(img, label,(xmin, ymin-10), font, 1.1, (255,0,0), 2,)\n",
    "    cv2.putText(img,score_txt,(xmin, ymin+30), font, 1, (255,0,0), 2,)\n",
    "cv2.imshow(\"kamera\",img)\n",
    "\n",
    "cv2.waitKey()\n",
    "cv2.destroyAllWindows()\n"
   ]
  }
 ],
 "metadata": {
  "kernelspec": {
   "display_name": "Python 3",
   "language": "python",
   "name": "python3"
  },
  "language_info": {
   "codemirror_mode": {
    "name": "ipython",
    "version": 3
   },
   "file_extension": ".py",
   "mimetype": "text/x-python",
   "name": "python",
   "nbconvert_exporter": "python",
   "pygments_lexer": "ipython3",
   "version": "3.7.4"
  }
 },
 "nbformat": 4,
 "nbformat_minor": 5
}
