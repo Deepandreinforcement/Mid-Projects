{
 "cells": [
  {
   "cell_type": "markdown",
   "id": "6dd9a852",
   "metadata": {},
   "source": [
    "# TextBlob\n"
   ]
  },
  {
   "cell_type": "code",
   "execution_count": null,
   "id": "e15c8198",
   "metadata": {},
   "outputs": [],
   "source": [
    "from textblob import TextBlob\n",
    "# analiz edilecek metin\n",
    "t1='Dünya bir gezegendir'\n",
    "# metini textblob objesine çevirdik\n",
    "b1=TextBlob(t1)\n",
    "# metni ingilizceye çevirdik.\n",
    "e1=b1.translate(from_lang='tr',to= 'en')\n",
    "print(\"Orijinal metin:\", b1)\n",
    "print(\"İngilizce metin:\",e1)\n",
    "# metnin duygu değeri ve subjektiflik değeri.\n",
    "# burada polarity değeri 0'dan büyükse o metin olumlu \n",
    "# 0'dan küçükse olumsuz bir anlam içermektedir. \n",
    "#subjektiflik değeri ise 0 ile 1 arasındadır.\n",
    "# 0'a yakın ise objektif 1'e yakın ise subjektiftir.\n",
    "print(e1.sentiment)\n",
    "if e1.sentiment.polarity>0:\n",
    "    print('Bu cümle olumlu bir görüş içermektedir')\n",
    "elif e1.sentiment.polarity<0: \n",
    "    print('Bu cümle olumsuz bir görüş içermektedir')\n",
    "else: \n",
    "    print('Bu cümlede bir duygu yoktur.')"
   ]
  },
  {
   "cell_type": "markdown",
   "id": "6246fc13",
   "metadata": {},
   "source": [
    "# Bert\n"
   ]
  },
  {
   "cell_type": "code",
   "execution_count": null,
   "id": "bc23b8d1",
   "metadata": {},
   "outputs": [],
   "source": [
    "# Burada kullnacağımız yapıları ekliyoruz.\n",
    "# Burada Bert adlı bir hazır model kullanıyoruz. \n",
    "# buradaki kütüphane sizde yüklü değilse kurmanız gerekiyor. \n",
    "# öncesinde pytorch kütüphanesini krumak da gerekebilir.\n",
    "from textblob import TextBlob\n",
    "import numpy as np\n",
    "from transformers import AutoTokenizer, AutoModelForSequenceClassification\n",
    "tokenizer = AutoTokenizer.from_pretrained('nlptown/bert-base-multilingual-uncased-sentiment')\n",
    "model = AutoModelForSequenceClassification.from_pretrained('nlptown/bert-base-multilingual-uncased-sentiment')"
   ]
  },
  {
   "cell_type": "code",
   "execution_count": null,
   "id": "9fe29c7c",
   "metadata": {},
   "outputs": [],
   "source": [
    "t1='Bu ne?'\n",
    "b1=TextBlob(t1)\n",
    "e1=b1.translate(from_lang='tr',to= 'en')\n",
    "# Burada cümledeki kelimeleri bulup onları kodluyor.\n",
    "# bu modelde çok fazla kelime var. Her bir kelime bir sayı ile ifade ediliyor.\n",
    "tokens = tokenizer.encode(str(e1), return_tensors='pt')\n",
    "# burada kelimeleri kodladıktan sonra modele verip sonuç alıyoruz.\n",
    "result = model(tokens)\n",
    "# burada 5 farklı puan var, 1'den 5'e kadar. Model her bir puan için bir\n",
    "#skor üretti. Biz burada en yüksek skora sahip puanı alıyoruz.\n",
    "puan=int(np.argmax(result.logits.detach().numpy()))+1\n",
    "# burada puanın 1' eşit olması cümlenin anlamının çok olumsuz olduğu anlamına gelirken\n",
    "# puanın 5' e eşit olması çok olumlu olduğu anlamına geliyor.\n",
    "duygu=['Çok kötü','Kötü ','Normal','İyi','Çok iyi ']\n",
    "print(\"Orijinal metin:\", b1)\n",
    "print(\"İngilizce metin:\",e1)\n",
    "print('Cümledeki puanlama:',puan)\n",
    "print('Cümledeki duygu:', duygu[puan-1])"
   ]
  },
  {
   "cell_type": "code",
   "execution_count": null,
   "id": "034f6bad",
   "metadata": {},
   "outputs": [],
   "source": []
  },
  {
   "cell_type": "code",
   "execution_count": null,
   "id": "d72eaf24",
   "metadata": {},
   "outputs": [],
   "source": []
  },
  {
   "cell_type": "code",
   "execution_count": null,
   "id": "5c24da72",
   "metadata": {},
   "outputs": [],
   "source": []
  },
  {
   "cell_type": "code",
   "execution_count": null,
   "id": "2a5a7e58",
   "metadata": {},
   "outputs": [],
   "source": []
  }
 ],
 "metadata": {
  "kernelspec": {
   "display_name": "Python 3",
   "language": "python",
   "name": "python3"
  },
  "language_info": {
   "codemirror_mode": {
    "name": "ipython",
    "version": 3
   },
   "file_extension": ".py",
   "mimetype": "text/x-python",
   "name": "python",
   "nbconvert_exporter": "python",
   "pygments_lexer": "ipython3",
   "version": "3.7.4"
  }
 },
 "nbformat": 4,
 "nbformat_minor": 5
}
